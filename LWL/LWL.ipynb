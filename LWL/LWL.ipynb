{
 "cells": [
  {
   "attachments": {},
   "cell_type": "markdown",
   "metadata": {},
   "source": [
    "# LOCALLY WEIGHTED LEARNING"
   ]
  },
  {
   "attachments": {},
   "cell_type": "markdown",
   "metadata": {},
   "source": [
    "- Regression algorithm.\n",
    "- **\"locally\"** means the function is approximated based only on the data near the query point.\n",
    "- **\"Weighted** means contribution of each training example is weighted by its distance from the query point.\n",
    "- **\"Regression** means community for the problem of approximating real- valued functions"
   ]
  },
  {
   "attachments": {},
   "cell_type": "markdown",
   "metadata": {},
   "source": [
    "![](pic1.png)"
   ]
  }
 ],
 "metadata": {
  "kernelspec": {
   "display_name": "base",
   "language": "python",
   "name": "python3"
  },
  "language_info": {
   "name": "python",
   "version": "3.9.12"
  },
  "orig_nbformat": 4,
  "vscode": {
   "interpreter": {
    "hash": "e646e3513d9b507ac942b38379c7c22444e9458dd8d251339d12aef3346bcb59"
   }
  }
 },
 "nbformat": 4,
 "nbformat_minor": 2
}
