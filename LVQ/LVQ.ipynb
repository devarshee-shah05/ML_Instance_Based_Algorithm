{
 "cells": [
  {
   "attachments": {},
   "cell_type": "markdown",
   "metadata": {},
   "source": [
    "# Learning Vector Quantization\n",
    "supervised-classification Algorithm "
   ]
  },
  {
   "attachments": {},
   "cell_type": "markdown",
   "metadata": {},
   "source": [
    "- LVQ is special case of an artificial neural network and it applies winner-take-all Hebbian learning-based approach.With a small difference, it is similar to Self-Organizing Maps (SOM) algorithm.\n",
    "- SOM and LVQ are invented by Teuvo Kohonen.\n",
    "- A downside of K-Nearest Neighbors is that you need to hang on to your entire training dataset.LVQ is artificial neural network algorithm that lets you choose how many training instances to hang onto and learns exactly what those instances should look like."
   ]
  },
  {
   "attachments": {},
   "cell_type": "markdown",
   "metadata": {},
   "source": [
    "# Application\n",
    "Reference - https://www.kaggle.com/code/alincijov/banknote-learning-vector-quantization"
   ]
  }
 ],
 "metadata": {
  "kernelspec": {
   "display_name": "Python 3",
   "language": "python",
   "name": "python3"
  },
  "language_info": {
   "name": "python",
   "version": "3.9.13"
  },
  "orig_nbformat": 4,
  "vscode": {
   "interpreter": {
    "hash": "851ff218efcd81498dc9c820653768da923e2c65f9f829bf47135c29ac2320d0"
   }
  }
 },
 "nbformat": 4,
 "nbformat_minor": 2
}
